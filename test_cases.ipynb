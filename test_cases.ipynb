{
 "cells": [
  {
   "cell_type": "code",
   "execution_count": 6,
   "metadata": {},
   "outputs": [],
   "source": [
    "import rdflib \n",
    "import unittest\n",
    "# import pdb; pdb.set_trace()\n",
    "from lam_utils import *"
   ]
  },
  {
   "cell_type": "code",
   "execution_count": 13,
   "metadata": {},
   "outputs": [
    {
     "name": "stderr",
     "output_type": "stream",
     "text": [
      "test_parse_qname (__main__.TestNotebook) ... ok\n",
      "test_qname_uri (__main__.TestNotebook) ... ok\n",
      "\n",
      "----------------------------------------------------------------------\n",
      "Ran 2 tests in 0.006s\n",
      "\n",
      "OK\n"
     ]
    },
    {
     "data": {
      "text/plain": [
       "<unittest.main.TestProgram at 0x9eb8cc0>"
      ]
     },
     "execution_count": 13,
     "metadata": {},
     "output_type": "execute_result"
    }
   ],
   "source": [
    "class TestNotebook(unittest.TestCase):\n",
    "\n",
    "    def setUp(self):\n",
    "        self.uri = rdflib.term.URIRef('http://www.w3.org/2004/02/skos/core#')\n",
    "        self.namespaces = [ ('skos',self.uri) ]\n",
    "    \n",
    "    def test_parse_qname(self):\n",
    "        s = \"skos:prefLabel@en\"\n",
    "        pref, name, lang = parse_qname(s)\n",
    "        self.assertEqual(pref,\"skos\")\n",
    "        self.assertEqual(name,\"prefLabel\")\n",
    "        self.assertEqual(lang,\"en\")\n",
    "        \n",
    "    def test_qname_uri(self):\n",
    "        self.assertIsNotNone(qname_uri(\"skos:prefLabel@ro\", self.namespaces))\n",
    "        \n",
    "\n",
    "        \n",
    "unittest.main(argv=[''], verbosity=2, exit=False)"
   ]
  }
 ],
 "metadata": {
  "kernelspec": {
   "display_name": "Python 3",
   "language": "python",
   "name": "python3"
  },
  "language_info": {
   "codemirror_mode": {
    "name": "ipython",
    "version": 3
   },
   "file_extension": ".py",
   "mimetype": "text/x-python",
   "name": "python",
   "nbconvert_exporter": "python",
   "pygments_lexer": "ipython3",
   "version": "3.7.3"
  }
 },
 "nbformat": 4,
 "nbformat_minor": 2
}
