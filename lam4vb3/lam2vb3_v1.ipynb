{
 "cells": [
  {
   "cell_type": "code",
   "execution_count": 24,
   "metadata": {
    "pycharm": {
     "is_executing": false
    }
   },
   "outputs": [
    {
     "name": "stdout",
     "output_type": "stream",
     "text": [
      "The autoreload extension is already loaded. To reload it, use:\n",
      "  %reload_ext autoreload\n"
     ]
    }
   ],
   "source": [
    "%load_ext autoreload\n",
    "%autoreload 2\n",
    "\n",
    "import pathlib\n",
    "import build\n",
    "import pandas as pd\n",
    "import property_build\n",
    "import class_build\n",
    "import lam_utils\n",
    "import rdflib\n",
    "from rdflib.namespace import RDF, RDFS, SKOS, DCTERMS, OWL, XMLNS, XSD\n",
    "from datetime import date\n",
    "\n",
    "# INPUT_FILE = pathlib.Path(\"../docs/semi-structured/LAM_metadata_03.xlsx\").resolve()\n",
    "INPUT_FILE = pathlib.Path(\"../docs/semi-structured/LAM_metadata_04_ECO.xlsx\").resolve()\n",
    "OUTPUT_FILE = pathlib.Path(\"../output/lam_project_v1.ttl\").resolve()\n",
    "OUTPUT_FILE_LAM_PROPERTIES = pathlib.Path(\"../output/lam_project_properties_v2.ttl\").resolve()\n",
    "OUTPUT_FILE_LAM_CLASSES = pathlib.Path(\"../output/lam_project_classes_v2.ttl\").resolve()\n",
    "OUTPUT_FILE_CELEX_CLASSES = pathlib.Path(\"../output/celex_project_classes_v2.ttl\").resolve()\n",
    "OUTPUT_FILE_CELEX_PROPERTIES = pathlib.Path(\"../output/celex_project_properties_v2.ttl\").resolve()\n"
   ]
  },
  {
   "cell_type": "code",
   "execution_count": 20,
   "metadata": {
    "pycharm": {
     "is_executing": false
    }
   },
   "outputs": [],
   "source": [
    "# lam_df_properties = pd.read_excel(INPUT_FILE, sheet_name=0 , header = [0], na_values=[\"\"], keep_default_na=False )\n",
    "# lam_df_classes = pd.read_excel(INPUT_FILE, sheet_name=1 ,header = [0], na_values=[\"\"], keep_default_na=False )\n",
    "# celex_df_properties = pd.read_excel(INPUT_FILE, sheet_name=2 ,header = [0], na_values=[\"\"], keep_default_na=False )\n",
    "# celex_df_classes = pd.read_excel(INPUT_FILE, sheet_name=3 ,header = [0], na_values=[\"\"], keep_default_na=False )\n",
    "# prefixes = pd.read_excel(INPUT_FILE, sheet_name=4 ,header = [0], na_values=[\"\"], keep_default_na=False )\n",
    "\n",
    "LAM_PROPERTIES_WS_NAME = \"LAM metadata\"\n",
    "LAM_CLASSES_WS_NAME = \"Classes complete\"\n",
    "CELEX_PROPERTIES_WS_NAME = \"CELEX metadata\"\n",
    "CELEX_CLASSES_WS_NAME = \"CELEX classes\"\n",
    "\n",
    "lam_df_properties = pd.read_excel(INPUT_FILE, sheet_name=LAM_PROPERTIES_WS_NAME , header = [0], na_values=[\"\"], keep_default_na=False )\n",
    "lam_df_classes = pd.read_excel(INPUT_FILE, sheet_name=LAM_CLASSES_WS_NAME ,header = [0], na_values=[\"\"], keep_default_na=False )\n",
    "celex_df_properties = pd.read_excel(INPUT_FILE, sheet_name=CELEX_PROPERTIES_WS_NAME ,header = [0], na_values=[\"\"], keep_default_na=False )\n",
    "celex_df_classes = pd.read_excel(INPUT_FILE, sheet_name=CELEX_CLASSES_WS_NAME ,header = [0], na_values=[\"\"], keep_default_na=False )\n",
    "prefixes = pd.read_excel(INPUT_FILE, sheet_name=4 ,header = [0], na_values=[\"\"], keep_default_na=False )"
   ]
  },
  {
   "cell_type": "code",
   "execution_count": 21,
   "metadata": {},
   "outputs": [],
   "source": [
    "property_build.make_property_worksheet(lam_df_properties,prefixes, OUTPUT_FILE_LAM_PROPERTIES)"
   ]
  },
  {
   "cell_type": "code",
   "execution_count": 22,
   "metadata": {},
   "outputs": [],
   "source": [
    "# display(lam_df_classes.loc[51].to_dict())\n",
    "class_build.make_class_worksheet(lam_df_classes,prefixes, OUTPUT_FILE_LAM_CLASSES)"
   ]
  },
  {
   "cell_type": "code",
   "execution_count": 23,
   "metadata": {},
   "outputs": [],
   "source": [
    "celex_df_classes['DTS'] = celex_df_classes['DTS'].apply(str)\n",
    "\n",
    "class_build.make_celex_class_worksheet(celex_df_classes,prefixes, OUTPUT_FILE_CELEX_CLASSES)\n",
    "property_build.make_property_worksheet(celex_df_properties,prefixes, OUTPUT_FILE_CELEX_PROPERTIES)"
   ]
  }
 ],
 "metadata": {
  "kernelspec": {
   "display_name": "Python 3",
   "language": "python",
   "name": "python3"
  },
  "language_info": {
   "codemirror_mode": {
    "name": "ipython",
    "version": 3
   },
   "file_extension": ".py",
   "mimetype": "text/x-python",
   "name": "python",
   "nbconvert_exporter": "python",
   "pygments_lexer": "ipython3",
   "version": "3.7.3"
  },
  "pycharm": {
   "stem_cell": {
    "cell_type": "raw",
    "metadata": {
     "collapsed": false
    },
    "source": []
   }
  }
 },
 "nbformat": 4,
 "nbformat_minor": 2
}
