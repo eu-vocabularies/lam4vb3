{
 "cells": [
  {
   "cell_type": "code",
   "execution_count": 17,
   "metadata": {
    "pycharm": {
     "is_executing": false
    }
   },
   "outputs": [
    {
     "name": "stdout",
     "output_type": "stream",
     "text": [
      "The autoreload extension is already loaded. To reload it, use:\n",
      "  %reload_ext autoreload\n"
     ]
    }
   ],
   "source": [
    "%load_ext autoreload\n",
    "%autoreload 2\n",
    "\n",
    "import pathlib\n",
    "from lam4vb3 import build\n",
    "import pandas as pd\n",
    "from lam4vb3 import property_build\n",
    "from lam4vb3 import class_build\n",
    "from lam4vb3 import lam_utils\n",
    "import rdflib\n",
    "from rdflib.namespace import RDF, RDFS, SKOS, DCTERMS, OWL, XMLNS, XSD\n",
    "from datetime import date\n",
    "\n",
    "INPUT_FILE = pathlib.Path(\"../docs/semi-structured/LAM_metadata_03.xlsx\").resolve()\n",
    "OUTPUT_FILE = pathlib.Path(\"../output/lam_project_v1.ttl\").resolve()\n",
    "OUTPUT_FILE_PROPERTIES = pathlib.Path(\"../output/lam_project_properties_v2.ttl\").resolve()\n",
    "OUTPUT_FILE_CLASSES = pathlib.Path(\"../output/lam_project_classes_v2.ttl\").resolve()\n"
   ]
  },
  {
   "cell_type": "code",
   "execution_count": 18,
   "metadata": {
    "pycharm": {
     "is_executing": false
    }
   },
   "outputs": [],
   "source": [
    "lam_df_properties = pd.read_excel(INPUT_FILE, sheet_name=0 , header = [0], na_values=[\"\"], keep_default_na=False )\n",
    "lam_df_classes = pd.read_excel(INPUT_FILE, sheet_name=1 ,header = [0], na_values=[\"\"], keep_default_na=False )\n",
    "celex_df_properties = pd.read_excel(INPUT_FILE, sheet_name=2 ,header = [0], na_values=[\"\"], keep_default_na=False )\n",
    "celex_df_classes = pd.read_excel(INPUT_FILE, sheet_name=3 ,header = [0], na_values=[\"\"], keep_default_na=False )\n",
    "prefixes = pd.read_excel(INPUT_FILE, sheet_name=4 ,header = [0], na_values=[\"\"], keep_default_na=False )"
   ]
  },
  {
   "cell_type": "code",
   "execution_count": 19,
   "metadata": {
    "scrolled": false
   },
   "outputs": [],
   "source": [
    "property_build.make_property_worksheet(lam_df_properties,prefixes, OUTPUT_FILE_PROPERTIES)"
   ]
  },
  {
   "cell_type": "code",
   "execution_count": 20,
   "metadata": {},
   "outputs": [],
   "source": [
    "class_build.make_class_worksheet(lam_df_classes,prefixes, OUTPUT_FILE_CLASSES)"
   ]
  },
  {
   "cell_type": "code",
   "execution_count": 5,
   "metadata": {
    "scrolled": false
   },
   "outputs": [],
   "source": [
    "# COLLECTION_COLUMNS_3 = [\"Classification level 1\", \"Classification level 2\", \"Classification level 3\"]\n",
    "# COLLECTION_COLUMNS_2 = [\"Classification level 1\", \"Classification level 2\", ]\n",
    "\n",
    "# COLLECTION_COLUMNS = {\n",
    "#     \"Classification level 1\":\"skos:prefLabel\",\n",
    "#     \"Classification level 2\":\"skos:prefLabel\",\n",
    "#     \"Classification level 3\":\"skos:prefLabel\",\n",
    "# }\n",
    "\n",
    "\n",
    "# graph = build.make_graph(prefixes)\n",
    "# df = lam_df_classes\n",
    "# collection_maker = build.ConceptCollectionMaker(df, \n",
    "#                                                 column_mapping_dict=COLLECTION_COLUMNS,\n",
    "#                                                 graph=graph,\n",
    "#                                                 target_columns=COLLECTION_COLUMNS_3,\n",
    "#                                                 subject_source=\"URI\",\n",
    "#                                                 subject_class=\"skos:Concept\",\n",
    "#                                                 membership_predicate=\"skos:member\",\n",
    "#                                                 collection_class=\"skos:Collectiopn\",)\n",
    "# collection_maker.make_triples()\n",
    "# graph.serialize(str(OUTPUT_FILE), format='turtle', )"
   ]
  },
  {
   "cell_type": "code",
   "execution_count": 6,
   "metadata": {},
   "outputs": [],
   "source": [
    "# MAPPING_URI_COLUMNS = {\n",
    "#     'CDM_CLASS': 'lam:cdm_class',\n",
    "#     'DN_CLASS': 'lam:celex_class',\n",
    "#     'FM': 'cdm:resource-type',\n",
    "# }\n",
    "\n",
    "# URI_COLUMN = 'URI'\n",
    "# LAM_CLASS_CS = \"lamd:LegalDocument\"\n",
    "# df = lam_df_classes\n",
    "# graph = build.make_graph(prefixes)\n",
    "# # make constraint from value with comment: Mapping columns\n",
    "# value_comment_constraint_maker1 = build.ConceptConstraintMaker(df,\n",
    "#                                                                subject_source=URI_COLUMN,\n",
    "#                                                                subject_class=\"skos:Concept\",\n",
    "#                                                                subject_in_scheme=LAM_CLASS_CS,\n",
    "#                                                                constraint_property=\"lam:hasPropertyConfiguration\",\n",
    "#                                                                constraint_class=\"lam:MappingPropertyConfiguration\",\n",
    "#                                                                constraint_comment=\"skos:editorialNote\",\n",
    "#                                                                column_mapping_dict=MAPPING_URI_COLUMNS,\n",
    "#                                                                target_columns=list(MAPPING_URI_COLUMNS.keys()),\n",
    "#                                                                uri_valued_columns=list(MAPPING_URI_COLUMNS.keys()),\n",
    "#                                                                multi_line_columns=[],\n",
    "#                                                                graph=graph)\n",
    "\n",
    "# value_comment_constraint_maker1.make_triples()\n",
    "# graph.serialize(str(OUTPUT_FILE), format='turtle', )"
   ]
  },
  {
   "cell_type": "code",
   "execution_count": 7,
   "metadata": {
    "scrolled": false
   },
   "outputs": [
    {
     "data": {
      "text/plain": [
       "{'CODE': 'lamd:md_CODE',\n",
       " 'LABEL': 'lamd:md_LABEL',\n",
       " 'KEYWORD': 'lamd:md_KEYWORD',\n",
       " 'EXAMPLE_EN': 'lamd:md_EXAMPLE_EN',\n",
       " 'EXAMPLE_FR': 'lamd:md_EXAMPLE_FR',\n",
       " 'COMMENT': 'lamd:md_COMMENT',\n",
       " 'EXAMPLE_CELEX': 'lamd:md_EXAMPLE_CELEX',\n",
       " 'CDM_CLASS': 'lamd:md_CDM_CLASS',\n",
       " 'AU': 'lamd:md_AU',\n",
       " 'FM': 'lamd:md_FM',\n",
       " 'DT_CORR': 'lamd:md_DT_CORR',\n",
       " 'DN_CLASS': 'lamd:md_DN_CLASS',\n",
       " 'DN': 'lamd:md_DN',\n",
       " 'DC': 'lamd:md_DC',\n",
       " 'CT': 'lamd:md_CT',\n",
       " 'CC': 'lamd:md_CC',\n",
       " 'RJ_NEW': 'lamd:md_RJ_NEW',\n",
       " 'DD': 'lamd:md_DD',\n",
       " 'IF': 'lamd:md_IF',\n",
       " 'EV': 'lamd:md_EV',\n",
       " 'NF': 'lamd:md_NF',\n",
       " 'TP': 'lamd:md_TP',\n",
       " 'SG': 'lamd:md_SG',\n",
       " 'VO': 'lamd:md_VO',\n",
       " 'DB': 'lamd:md_DB',\n",
       " 'LO': 'lamd:md_LO',\n",
       " 'DH': 'lamd:md_DH',\n",
       " 'DL': 'lamd:md_DL',\n",
       " 'RP': 'lamd:md_RP',\n",
       " 'VV': 'lamd:md_VV',\n",
       " 'REP': 'lamd:md_REP',\n",
       " 'RS': 'lamd:md_RS',\n",
       " 'AS': 'lamd:md_AS',\n",
       " 'AF': 'lamd:md_AF',\n",
       " 'MI': 'lamd:md_MI',\n",
       " 'LG': 'lamd:md_LG',\n",
       " 'RI': 'lamd:md_RI',\n",
       " 'DP': 'lamd:md_DP',\n",
       " 'AD': 'lamd:md_AD',\n",
       " 'LF': 'lamd:md_LF',\n",
       " 'REPPORTEUR': 'lamd:md_REPPORTEUR',\n",
       " 'IC': 'lamd:md_IC',\n",
       " 'CM': 'lamd:md_CM',\n",
       " 'NS': 'lamd:md_NS',\n",
       " 'TT': 'lamd:md_TT',\n",
       " 'LB': 'lamd:md_LB',\n",
       " 'AMENDMENT': 'lamd:md_AMENDMENT',\n",
       " 'ADDITION': 'lamd:md_ADDITION',\n",
       " 'REPEAL': 'lamd:md_REPEAL',\n",
       " 'REPEAL_IMP': 'lamd:md_REPEAL_IMP',\n",
       " 'ADOPTION': 'lamd:md_ADOPTION',\n",
       " 'ADOPTION_PAR': 'lamd:md_ADOPTION_PAR',\n",
       " 'APPLICABILITY_EXT': 'lamd:md_APPLICABILITY_EXT',\n",
       " 'COMPLETION': 'lamd:md_COMPLETION',\n",
       " 'VALIDITY_EXT': 'lamd:md_VALIDITY_EXT',\n",
       " 'REPLACEMENT': 'lamd:md_REPLACEMENT',\n",
       " 'CORRIGENDUM': 'lamd:md_CORRIGENDUM',\n",
       " 'OBSOLETE': 'lamd:md_OBSOLETE',\n",
       " 'DEROGATION': 'lamd:md_DEROGATION',\n",
       " 'CONFIRMATION': 'lamd:md_CONFIRMATION',\n",
       " 'QUESTION_SIMILAR': 'lamd:md_QUESTION_SIMILAR',\n",
       " 'INTERPRETATION': 'lamd:md_INTERPRETATION',\n",
       " 'IMPLEMENTATION': 'lamd:md_IMPLEMENTATION',\n",
       " 'REESTAB': 'lamd:md_REESTAB',\n",
       " 'SUSPEND': 'lamd:md_SUSPEND',\n",
       " 'SUSPEND_PAR': 'lamd:md_SUSPEND_PAR',\n",
       " 'APPLICABILITY_DEF': 'lamd:md_APPLICABILITY_DEF',\n",
       " 'INCORPORATION': 'lamd:md_INCORPORATION',\n",
       " 'REFER_PAR': 'lamd:md_REFER_PAR',\n",
       " 'QUESTION_RELATED': 'lamd:md_QUESTION_RELATED',\n",
       " 'OPINION_EP': 'lamd:md_OPINION_EP',\n",
       " 'OPINION_COR': 'lamd:md_OPINION_COR',\n",
       " 'OPINION_EESC': 'lamd:md_OPINION_EESC',\n",
       " 'INFLUENCE': 'lamd:md_INFLUENCE',\n",
       " 'AMENDMENT_PRO': 'lamd:md_AMENDMENT_PRO',\n",
       " 'CI': 'lamd:md_CI',\n",
       " 'RELATION': 'lamd:md_RELATION',\n",
       " 'ASSOCIATION': 'lamd:md_ASSOCIATION',\n",
       " 'PROC': 'lamd:md_PROC',\n",
       " 'AP': 'lamd:md_AP',\n",
       " 'DF': 'lamd:md_DF',\n",
       " 'PR': 'lamd:md_PR',\n",
       " 'NA': 'lamd:md_NA',\n",
       " 'ANNULMENT_REQ': 'lamd:md_ANNULMENT_REQ',\n",
       " 'FAILURE_REQ': 'lamd:md_FAILURE_REQ',\n",
       " 'INAPPLICAB_REQ': 'lamd:md_INAPPLICAB_REQ',\n",
       " 'ANULMENT_PARTIAL_REQ': 'lamd:md_ANULMENT_PARTIAL_REQ',\n",
       " 'REVIEW_REQ': 'lamd:md_REVIEW_REQ',\n",
       " 'PRELIMINARY_REQ': 'lamd:md_PRELIMINARY_REQ',\n",
       " 'COMMUNIC_REQ': 'lamd:md_COMMUNIC_REQ',\n",
       " 'OPINION_REQ': 'lamd:md_OPINION_REQ',\n",
       " 'ANN_COD': 'lamd:md_ANN_COD',\n",
       " 'ANN_TOD': 'lamd:md_ANN_TOD',\n",
       " 'ANN_CLB': 'lamd:md_ANN_CLB',\n",
       " 'ANN_ART': 'lamd:md_ANN_ART',\n",
       " 'ANN_PAR': 'lamd:md_ANN_PAR',\n",
       " 'ANN_SUB': 'lamd:md_ANN_SUB',\n",
       " 'ANN_TLT': 'lamd:md_ANN_TLT',\n",
       " 'ANN_RL2': 'lamd:md_ANN_RL2',\n",
       " 'ANN_MDL': 'lamd:md_ANN_MDL',\n",
       " 'ANN_MSL': 'lamd:md_ANN_MSL',\n",
       " 'ANN_SOV': 'lamd:md_ANN_SOV',\n",
       " 'ANN_EOV': 'lamd:md_ANN_EOV',\n",
       " 'ANN_LVL': 'lamd:md_ANN_LVL',\n",
       " 'ANN_FCS': 'lamd:md_ANN_FCS',\n",
       " 'ANN_FCT': 'lamd:md_ANN_FCT'}"
      ]
     },
     "execution_count": 7,
     "metadata": {},
     "output_type": "execute_result"
    }
   ],
   "source": [
    "# d = { c:u for u,c in lam_df_properties[ [\"URI\",\"Code\"] ].values }\n",
    "# d"
   ]
  }
 ],
 "metadata": {
  "kernelspec": {
   "display_name": "Python 3",
   "language": "python",
   "name": "python3"
  },
  "language_info": {
   "codemirror_mode": {
    "name": "ipython",
    "version": 3
   },
   "file_extension": ".py",
   "mimetype": "text/x-python",
   "name": "python",
   "nbconvert_exporter": "python",
   "pygments_lexer": "ipython3",
   "version": "3.7.3"
  },
  "pycharm": {
   "stem_cell": {
    "cell_type": "raw",
    "metadata": {
     "collapsed": false
    },
    "source": []
   }
  }
 },
 "nbformat": 4,
 "nbformat_minor": 2
}
