{
 "cells": [
  {
   "cell_type": "code",
   "execution_count": 1,
   "metadata": {
    "pycharm": {
     "is_executing": false
    }
   },
   "outputs": [],
   "source": [
    "%load_ext autoreload\n",
    "%autoreload\n",
    "\n",
    "import pathlib\n",
    "import lam4vb3.build as build\n",
    "import pandas as pd\n",
    "import lam4vb3.property_build as pbuild\n",
    "\n",
    "INPUT_FILE = pathlib.Path(\"../docs/semi-structured/LAM_metadata_03.xlsx\").resolve()\n",
    "OUTPUT_FILE = pathlib.Path(\"../output/lam_project_v1.ttl\").resolve()"
   ]
  },
  {
   "cell_type": "code",
   "execution_count": 2,
   "metadata": {
    "pycharm": {
     "is_executing": false
    }
   },
   "outputs": [],
   "source": [
    "lam_df_properties = pd.read_excel(INPUT_FILE, sheet_name=0 , header = [0], )\n",
    "lam_df_classes = pd.read_excel(INPUT_FILE, sheet_name=1 ,header = [0], )\n",
    "celex_df_properties = pd.read_excel(INPUT_FILE, sheet_name=2 ,header = [0], )\n",
    "celex_df_classes = pd.read_excel(INPUT_FILE, sheet_name=3 ,header = [0], )\n",
    "\n",
    "# test = lam_df_properties.head().to_dict()\n",
    "# print(str(test))"
   ]
  },
  {
   "cell_type": "code",
   "execution_count": 98,
   "metadata": {
    "scrolled": false
   },
   "outputs": [
    {
     "name": "stdout",
     "output_type": "stream",
     "text": [
      "['Y']\n",
      "Y None\n",
      "['Y']\n",
      "Y None\n",
      "['N']\n",
      "N None\n",
      "['YU']\n",
      "YU None\n",
      "['OU']\n",
      "OU None\n",
      "['O']\n",
      "O None\n",
      "['N']\n",
      "N None\n",
      "['Y', 'some comment']\n",
      "Y some comment\n",
      "['N', 'some comment']\n",
      "N some comment\n",
      "['YU', 'some comment']\n",
      "YU some comment\n",
      "['yes,']\n",
      "yes, None\n",
      "['according to text']\n",
      "according to text None\n",
      "['no']\n",
      "no None\n",
      "['value']\n",
      "value None\n",
      "['value', 'with a comment']\n",
      "value with a comment\n",
      "['value', 'with another comment']\n",
      "value with another comment\n",
      "['value1']\n",
      "value1 None\n",
      "['value2']\n",
      "value2 None\n",
      "['value1']\n",
      "value1 None\n",
      "['value2', 'comment']\n",
      "value2 comment\n",
      "['skos:prefLabel']\n",
      "skos:prefLabel None\n",
      "['skos:altLabel', 'comment']\n",
      "skos:altLabel comment\n",
      "['value1']\n",
      "value1 None\n",
      "['value2']\n",
      "value2 None\n"
     ]
    }
   ],
   "source": [
    "# graph = build.make_lam_graph()\n",
    "\n",
    "# pbuild.create_cs(graph)\n",
    "# pbuild.create_concepts(lam_df_properties, graph)\n",
    "\n",
    "# graph.serialize(str(OUTPUT_FILE), format='turtle',)\n",
    "\n",
    "import numpy as np\n",
    "import re\n",
    "\n",
    "def clean_list(lst,delimiters=\"|~\"):\n",
    "    return [str.strip(re.sub(delimiters,\"\",x)) for x in lst if x]\n",
    "\n",
    "# cells with unconsytrained values\n",
    "# cells with constrained values by conventions in the property sheet\n",
    "\n",
    "# property_re = re.compile(r\"(None|nan)|([\\w:\\\\\\/]+(?:\\n|\\s)*)\")\n",
    "property_re = re.compile(r\"[\\n]+\")\n",
    "\n",
    "\n",
    "cells_constrained_prop=[None, np.nan, \"\", \"literal\", \"literal_line \\nnew_line_literal\",\n",
    "                                               \"skos:prefLabel\",\n",
    "                                               \"skos:prefLabel \\n skos:altLabel\",\n",
    "                                               \"skos:prefLabel \\n skos:altLabel ,\\nskos:prefLabel\\n ,skos:altLabel\\nskos:prefLabel \\nskos:altLabel\",\n",
    "                                                \"Amendment to, \\nEarlier related instruments\",\n",
    "                                                \"Amendment to \\nEarlier related instruments\",\n",
    "                                               ]\n",
    "for i in cells_constrained_prop:\n",
    "    s = [str.strip(x) for x in property_re.split(str(i)) if x]\n",
    "#     s = clean_list(property_re.split(str(i)),delimiters=\",\")\n",
    "#     print(s)\n",
    "    \n",
    "# cells with constrained values by conventions in the class sheet\n",
    "class_re = re.compile(r\"((?![|~]).+)([|~].+)|(.+)\")\n",
    "value_separator = re.compile(r\"\\n\")\n",
    "# \n",
    "\n",
    "cells_constrained_class = [\"\", \"Y\", \"Y     \", \"N  \", \"YU\", \"OU\", \"O\", \"N\",\n",
    "                                            \"Y | some comment\", \"N | some comment\", \" YU ~ some comment\", \"yes,\",\n",
    "                                            \"according to text\", \"no\", \"value\", \"value | with a comment\",\n",
    "                                            \"value ~ with another comment\", \"value1 \\n value2\",\n",
    "                                            \"value1 \\n value2 | comment\",\n",
    "                                            \"skos:prefLabel \\n skos:altLabel | comment\", \"value1\\nvalue2\"\n",
    "                                            ]\n",
    "\n",
    "# controlled list = (none|nan|y|yes|yu|o|ou|n|no)\n",
    "\n",
    "for i in cells_constrained_class:\n",
    "    lines = [str.strip(x) for x in re.split(r\"\\n\", i) if x]\n",
    "    for line in lines:\n",
    "        \n",
    "#         parts = re.split(r\"[~\\|]\", line)# [str.strip(x) for x in re.split(r\"|~\", line) if x]\n",
    "#         print (\":\",parts)\n",
    "        s = [str.strip(x) for x in re.split(\"[~\\|]\",line) if x]\n",
    "        print (s)\n",
    "        s0 = s[0] if s else None\n",
    "        s1 = s[1] if len(s)>1 else None\n",
    "#         s2 = s[1] if len(s)>2 else None\n",
    "        print (s0,s1)\n",
    "#     print (lines)\n"
   ]
  }
 ],
 "metadata": {
  "kernelspec": {
   "display_name": "Python 3",
   "language": "python",
   "name": "python3"
  },
  "language_info": {
   "codemirror_mode": {
    "name": "ipython",
    "version": 3
   },
   "file_extension": ".py",
   "mimetype": "text/x-python",
   "name": "python",
   "nbconvert_exporter": "python",
   "pygments_lexer": "ipython3",
   "version": "3.7.3"
  },
  "pycharm": {
   "stem_cell": {
    "cell_type": "raw",
    "metadata": {
     "collapsed": false
    },
    "source": []
   }
  }
 },
 "nbformat": 4,
 "nbformat_minor": 2
}
