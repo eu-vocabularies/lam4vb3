{
 "cells": [
  {
   "cell_type": "code",
   "execution_count": 96,
   "metadata": {
    "pycharm": {
     "is_executing": false
    }
   },
   "outputs": [
    {
     "name": "stdout",
     "output_type": "stream",
     "text": [
      "The autoreload extension is already loaded. To reload it, use:\n",
      "  %reload_ext autoreload\n"
     ]
    }
   ],
   "source": [
    "%load_ext autoreload\n",
    "%autoreload\n",
    "\n",
    "import pathlib\n",
    "from lam4vb3 import build\n",
    "import pandas as pd\n",
    "from lam4vb3 import property_build\n",
    "import rdflib\n",
    "\n",
    "INPUT_FILE = pathlib.Path(\"../docs/semi-structured/LAM_metadata_03.xlsx\").resolve()\n",
    "OUTPUT_FILE = pathlib.Path(\"../output/lam_project_v1.ttl\").resolve()"
   ]
  },
  {
   "cell_type": "code",
   "execution_count": 97,
   "metadata": {
    "pycharm": {
     "is_executing": false
    }
   },
   "outputs": [],
   "source": [
    "lam_df_properties = pd.read_excel(INPUT_FILE, sheet_name=0 , header = [0], )\n",
    "lam_df_classes = pd.read_excel(INPUT_FILE, sheet_name=1 ,header = [0], )\n",
    "celex_df_properties = pd.read_excel(INPUT_FILE, sheet_name=2 ,header = [0], )\n",
    "celex_df_classes = pd.read_excel(INPUT_FILE, sheet_name=3 ,header = [0], )\n",
    "prefixes = pd.read_excel(INPUT_FILE, sheet_name=4 ,header = [0], )\n",
    "# test = lam_df_properties.head().to_dict()\n",
    "# print(str(test))"
   ]
  },
  {
   "cell_type": "code",
   "execution_count": 83,
   "metadata": {},
   "outputs": [],
   "source": [
    "# def normalise_namespace_mapping_dict(df, ):\n",
    "#     \"\"\"\n",
    "#        normalise the prefixes read into a dataframe.\n",
    "       \n",
    "#     \"\"\"\n",
    "#     namespace_mapping_dict = (dict(zip(df[prefix_column], df[uri_column])))\n",
    "#     return { str(k).replace(\":\",\"\"): \n",
    "#             str(v).strip() if (str(v).endswith(\"/\") or str(v).endswith(\"#\")) \n",
    "#                            else str(str(k) + \":\") for k, v in namespace_mapping_dict.items() if k and v}\n",
    "\n",
    "# def make_graph(df, prefix_column=\"prefix\", uri_column=\"uri\"):\n",
    "#     \"\"\"\n",
    "#         init the LAM data graph\n",
    "#     \"\"\"\n",
    "#     graph = rdflib.Graph()\n",
    "\n",
    "#     graph.bind(\"skos\", rdflib.namespace.SKOS)\n",
    "#     graph.bind(\"dct\", rdflib.namespace.DCTERMS)\n",
    "\n",
    "#     graph.bind(\"rdf\", rdflib.namespace.RDF)\n",
    "#     graph.bind(\"rdfs\", rdflib.namespace.RDFS)\n",
    "#     graph.bind(\"xsd\", rdflib.namespace.XSD)\n",
    "#     graph.bind(\"owl\", rdflib.namespace.OWL)\n",
    "#     graph.bind(\"xml\", rdflib.namespace.XMLNS)\n",
    "    \n",
    "#     # normalise the prefixes read into a dataframe\n",
    "#     namespace_mapping_dict = dict(zip(df[prefix_column], df[uri_column]))\n",
    "#     ns_dict = { str(k).replace(\":\",\"\"): \n",
    "#             str(v).strip() if (str(v).endswith(\"/\") or str(v).endswith(\"#\")) \n",
    "#                            else str(str(k) + \":\") for k, v in namespace_mapping_dict.items() if k and v}\n",
    "    \n",
    "#     for k,v in ns_dict.items():\n",
    "#         graph.bind(k,rdflib.Namespace(v))\n",
    "        \n",
    "#     return graph\n",
    "\n",
    "\n",
    "# print (list(make_graph(prefixes).namespaces()))"
   ]
  },
  {
   "cell_type": "code",
   "execution_count": 98,
   "metadata": {
    "scrolled": false
   },
   "outputs": [],
   "source": [
    "\n",
    "graph = build.make_graph(prefixes)\n",
    "property_build.create_cs(graph)\n",
    "property_build.create_concepts(lam_df_properties,graph)\n",
    "graph.serialize(str(OUTPUT_FILE), format='turtle',)"
   ]
  }
 ],
 "metadata": {
  "kernelspec": {
   "display_name": "Python 3",
   "language": "python",
   "name": "python3"
  },
  "language_info": {
   "codemirror_mode": {
    "name": "ipython",
    "version": 3
   },
   "file_extension": ".py",
   "mimetype": "text/x-python",
   "name": "python",
   "nbconvert_exporter": "python",
   "pygments_lexer": "ipython3",
   "version": "3.7.3"
  },
  "pycharm": {
   "stem_cell": {
    "cell_type": "raw",
    "metadata": {
     "collapsed": false
    },
    "source": []
   }
  }
 },
 "nbformat": 4,
 "nbformat_minor": 2
}
