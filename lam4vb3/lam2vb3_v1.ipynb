{
 "cells": [
  {
   "cell_type": "code",
   "execution_count": 10,
   "metadata": {
    "pycharm": {
     "is_executing": false
    }
   },
   "outputs": [
    {
     "name": "stdout",
     "output_type": "stream",
     "text": [
      "The autoreload extension is already loaded. To reload it, use:\n",
      "  %reload_ext autoreload\n"
     ]
    }
   ],
   "source": [
    "%load_ext autoreload\n",
    "%autoreload\n",
    "\n",
    "import pathlib\n",
    "import lam4vb3.build as build\n",
    "import pandas as pd\n",
    "\n",
    "INPUT_FILE = pathlib.Path(\"../docs/semi-structured/LAM_metadata_03.xlsx\") \n",
    "OUTPUT_FILE = pathlib.Path(\"../output/lam_project_v1.ttl\")"
   ]
  },
  {
   "cell_type": "code",
   "execution_count": 37,
   "metadata": {},
   "outputs": [],
   "source": [
    "lam_df_properties = pd.read_excel(INPUT_FILE, sheet_name=0 , header = [0], )\n",
    "lam_df_classes = pd.read_excel(INPUT_FILE, sheet_name=1 ,header = [0], )\n",
    "celex_df_properties = pd.read_excel(INPUT_FILE, sheet_name=2 ,header = [0], )\n",
    "celex_df_classes = pd.read_excel(INPUT_FILE, sheet_name=3 ,header = [0], )\n",
    "\n",
    "# test = lam_df_properties.head().to_dict()\n",
    "# print(str(test))"
   ]
  },
  {
   "cell_type": "markdown",
   "metadata": {},
   "source": [
    "## Mapping LAM metadata worksheet columns\n"
   ]
  },
  {
   "cell_type": "code",
   "execution_count": 38,
   "metadata": {},
   "outputs": [
    {
     "data": {
      "text/plain": [
       "[('lamd:md_001', 'lamd:md_001'),\n",
       " ('lamd:md_002', 'lamd:md_002'),\n",
       " ('lamd:md_003', 'lamd:md_003'),\n",
       " ('lamd:md_004', 'lamd:md_004'),\n",
       " ('lamd:md_005', 'lamd:md_005'),\n",
       " ('lamd:md_006', 'lamd:md_006'),\n",
       " ('lamd:md_007', 'lamd:md_007'),\n",
       " ('lamd:md_008', 'lamd:md_008'),\n",
       " ('lamd:md_009', 'lamd:md_009'),\n",
       " ('lamd:md_010', 'lamd:md_010'),\n",
       " ('lamd:md_011', 'lamd:md_011'),\n",
       " ('lamd:md_012', 'lamd:md_012'),\n",
       " ('lamd:md_013', 'lamd:md_013'),\n",
       " ('lamd:md_014', 'lamd:md_014'),\n",
       " ('lamd:md_015', 'lamd:md_015'),\n",
       " ('lamd:md_016', 'lamd:md_016'),\n",
       " ('lamd:md_017', 'lamd:md_017'),\n",
       " ('lamd:md_018', 'lamd:md_018'),\n",
       " ('lamd:md_019', 'lamd:md_019'),\n",
       " ('lamd:md_020', 'lamd:md_020'),\n",
       " ('lamd:md_021', 'lamd:md_021'),\n",
       " ('lamd:md_022', 'lamd:md_022'),\n",
       " ('lamd:md_023', 'lamd:md_023'),\n",
       " ('lamd:md_024', 'lamd:md_024'),\n",
       " ('lamd:md_025', 'lamd:md_025'),\n",
       " ('lamd:md_026', 'lamd:md_026'),\n",
       " ('lamd:md_027', 'lamd:md_027'),\n",
       " ('lamd:md_028', 'lamd:md_028'),\n",
       " ('lamd:md_029', 'lamd:md_029'),\n",
       " ('lamd:md_030', 'lamd:md_030'),\n",
       " ('lamd:md_031', 'lamd:md_031'),\n",
       " ('lamd:md_032', 'lamd:md_032'),\n",
       " ('lamd:md_033', 'lamd:md_033'),\n",
       " ('lamd:md_034', 'lamd:md_034'),\n",
       " ('lamd:md_035', 'lamd:md_035'),\n",
       " ('lamd:md_036', 'lamd:md_036'),\n",
       " ('lamd:md_037', 'lamd:md_037'),\n",
       " ('lamd:md_038', 'lamd:md_038'),\n",
       " ('lamd:md_039', 'lamd:md_039'),\n",
       " ('lamd:md_040', 'lamd:md_040'),\n",
       " ('lamd:md_041', 'lamd:md_041'),\n",
       " ('lamd:md_042', 'lamd:md_042'),\n",
       " ('lamd:md_043', 'lamd:md_043'),\n",
       " ('lamd:md_044', 'lamd:md_044'),\n",
       " ('lamd:md_045', 'lamd:md_045'),\n",
       " ('lamd:md_046', 'lamd:md_046'),\n",
       " ('lamd:md_047', 'lamd:md_047'),\n",
       " ('lamd:md_048', 'lamd:md_048'),\n",
       " ('lamd:md_049', 'lamd:md_049'),\n",
       " ('lamd:md_050', 'lamd:md_050'),\n",
       " ('lamd:md_051', 'lamd:md_051'),\n",
       " ('lamd:md_052', 'lamd:md_052'),\n",
       " ('lamd:md_053', 'lamd:md_053'),\n",
       " ('lamd:md_054', 'lamd:md_054'),\n",
       " ('lamd:md_055', 'lamd:md_055'),\n",
       " ('lamd:md_056', 'lamd:md_056'),\n",
       " ('lamd:md_057', 'lamd:md_057'),\n",
       " ('lamd:md_058', 'lamd:md_058'),\n",
       " ('lamd:md_059', 'lamd:md_059'),\n",
       " ('lamd:md_060', 'lamd:md_060'),\n",
       " ('lamd:md_061', 'lamd:md_061'),\n",
       " ('lamd:md_062', 'lamd:md_062'),\n",
       " ('lamd:md_063', 'lamd:md_063'),\n",
       " ('lamd:md_064', 'lamd:md_064'),\n",
       " ('lamd:md_065', 'lamd:md_065'),\n",
       " ('lamd:md_066', 'lamd:md_066'),\n",
       " ('lamd:md_067', 'lamd:md_067'),\n",
       " ('lamd:md_068', 'lamd:md_068'),\n",
       " ('lamd:md_069', 'lamd:md_069'),\n",
       " ('lamd:md_070', 'lamd:md_070'),\n",
       " ('lamd:md_071', 'lamd:md_071'),\n",
       " ('lamd:md_072', 'lamd:md_072'),\n",
       " ('lamd:md_073', 'lamd:md_073'),\n",
       " ('lamd:md_074', 'lamd:md_074'),\n",
       " ('lamd:md_075', 'lamd:md_075'),\n",
       " ('lamd:md_076', 'lamd:md_076'),\n",
       " ('lamd:md_077', 'lamd:md_077'),\n",
       " ('lamd:md_078', 'lamd:md_078'),\n",
       " ('lamd:md_079', 'lamd:md_079'),\n",
       " ('lamd:md_080', 'lamd:md_080'),\n",
       " ('lamd:md_081', 'lamd:md_081'),\n",
       " ('lamd:md_082', 'lamd:md_082'),\n",
       " ('lamd:md_083', 'lamd:md_083'),\n",
       " ('lamd:md_084', 'lamd:md_084'),\n",
       " ('lamd:md_085', 'lamd:md_085'),\n",
       " ('lamd:md_086', 'lamd:md_086'),\n",
       " ('lamd:md_087', 'lamd:md_087'),\n",
       " ('lamd:md_088', 'lamd:md_088'),\n",
       " ('lamd:md_089', 'lamd:md_089'),\n",
       " ('lamd:md_090', 'lamd:md_090'),\n",
       " ('lamd:md_091', 'lamd:md_091'),\n",
       " ('lamd:md_092', 'lamd:md_092'),\n",
       " ('lamd:md_093', 'lamd:md_093'),\n",
       " ('lamd:md_094', 'lamd:md_094'),\n",
       " ('lamd:md_095', 'lamd:md_095'),\n",
       " ('lamd:md_096', 'lamd:md_096'),\n",
       " ('lamd:md_097', 'lamd:md_097'),\n",
       " ('lamd:md_098', 'lamd:md_098'),\n",
       " ('lamd:md_099', 'lamd:md_099'),\n",
       " ('lamd:md_100', 'lamd:md_100'),\n",
       " ('lamd:md_101', 'lamd:md_101'),\n",
       " ('lamd:md_102', 'lamd:md_102'),\n",
       " ('lamd:md_103', 'lamd:md_103'),\n",
       " ('lamd:md_104', 'lamd:md_104'),\n",
       " ('lamd:md_105', 'lamd:md_105'),\n",
       " ('lamd:md_106', 'lamd:md_106')]"
      ]
     },
     "execution_count": 38,
     "metadata": {},
     "output_type": "execute_result"
    }
   ],
   "source": [
    "list(zip(lam_df_properties[\"URI\"],lam_df_properties[\"URI\"]))\n",
    "\n",
    "\n",
    "\n",
    "\n",
    "\n",
    "\n"
   ]
  }
 ],
 "metadata": {
  "kernelspec": {
   "display_name": "Python 3",
   "language": "python",
   "name": "python3"
  },
  "language_info": {
   "codemirror_mode": {
    "name": "ipython",
    "version": 3
   },
   "file_extension": ".py",
   "mimetype": "text/x-python",
   "name": "python",
   "nbconvert_exporter": "python",
   "pygments_lexer": "ipython3",
   "version": "3.6.8"
  },
  "pycharm": {
   "stem_cell": {
    "cell_type": "raw",
    "metadata": {
     "collapsed": false
    },
    "source": []
   }
  }
 },
 "nbformat": 4,
 "nbformat_minor": 2
}
