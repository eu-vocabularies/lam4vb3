{
 "cells": [
  {
   "cell_type": "code",
   "execution_count": 132,
   "metadata": {
    "pycharm": {
     "is_executing": false
    }
   },
   "outputs": [
    {
     "name": "stdout",
     "output_type": "stream",
     "text": [
      "The autoreload extension is already loaded. To reload it, use:\n",
      "  %reload_ext autoreload\n"
     ]
    }
   ],
   "source": [
    "%load_ext autoreload\n",
    "%autoreload\n",
    "\n",
    "import pathlib\n",
    "from lam4vb3 import build\n",
    "import pandas as pd\n",
    "from lam4vb3 import property_build\n",
    "from lam4vb3 import class_build\n",
    "from lam4vb3 import lam_utils\n",
    "import rdflib\n",
    "from rdflib.namespace import RDF, RDFS, SKOS, DCTERMS, OWL, XMLNS, XSD\n",
    "from datetime import date\n",
    "\n",
    "INPUT_FILE = pathlib.Path(\"../docs/semi-structured/LAM_metadata_03.xlsx\").resolve()\n",
    "OUTPUT_FILE = pathlib.Path(\"../output/lam_project_v1.ttl\").resolve()\n"
   ]
  },
  {
   "cell_type": "code",
   "execution_count": 70,
   "metadata": {
    "pycharm": {
     "is_executing": false
    }
   },
   "outputs": [],
   "source": [
    "lam_df_properties = pd.read_excel(INPUT_FILE, sheet_name=0 , header = [0], na_values=[\"\"], keep_default_na=False )\n",
    "lam_df_classes = pd.read_excel(INPUT_FILE, sheet_name=1 ,header = [0], na_values=[\"\"], keep_default_na=False )\n",
    "celex_df_properties = pd.read_excel(INPUT_FILE, sheet_name=2 ,header = [0], na_values=[\"\"], keep_default_na=False )\n",
    "celex_df_classes = pd.read_excel(INPUT_FILE, sheet_name=3 ,header = [0], na_values=[\"\"], keep_default_na=False )\n",
    "prefixes = pd.read_excel(INPUT_FILE, sheet_name=4 ,header = [0], na_values=[\"\"], keep_default_na=False )\n",
    "# test = lam_df_properties.head().to_dict()\n",
    "# print(str(test))\n"
   ]
  },
  {
   "cell_type": "code",
   "execution_count": 133,
   "metadata": {},
   "outputs": [],
   "source": [
    "property_build.make_property_worksheet(lam_df_properties,prefixes, OUTPUT_FILE)"
   ]
  },
  {
   "cell_type": "code",
   "execution_count": 130,
   "metadata": {
    "scrolled": false
   },
   "outputs": [],
   "source": [
    "\n",
    "LITERAL_COLUMNS = {\n",
    "    'EXAMPLE_EN': 'skos:example@en',\n",
    "    'EXAMPLE_FR': 'skos:example@fr',\n",
    "    'COMMENT': 'skos:editorialNote@en',\n",
    "    'EXAMPLE_CELEX': 'skos:example',\n",
    "}\n",
    "\n",
    "REIFIED_LITERAL_COLUMNS = {\n",
    "    'KEYWORD': 'skosxl:prefLabel@en',\n",
    "}\n",
    "\n",
    "MAPPING_URI_COLUMNS = {\n",
    "    'CDM_CLASS': 'lam:cdm_class',\n",
    "    'DN_CLASS': 'lam:celex_class',\n",
    "}\n",
    "\n",
    "MAPPING_VALUE_COMMENT_COLUMNS = {\n",
    "    'AU': 'cdm:created_by',\n",
    "    'FM': 'cdm:resource-type',\n",
    "}\n",
    "\n",
    "MAPPING_CELEX_COLUMN = {\n",
    "    'DN_CLASS': 'lam:celex_class',\n",
    "}\n",
    "\n",
    "CONSTRAINT_VALUE_COMMENT_COLUMNS = {\n",
    "    'DN': 'cdm:resource_legal_id_celex',\n",
    "    'DT_CORR': 'cdm:resource_legal_number_corrigendum',\n",
    "    'DC': 'cdm:concept_eurovoc',\n",
    "}\n",
    "\n",
    "ANNOTATION_COLUMNS = {\n",
    "    \"annotation_1\": \"sh:path\",\n",
    "    \"controlled value_annotation_1\": \"sh:class\",\n",
    "    \"annotation_2\": \"sh:path\",\n",
    "    \"controlled value_annotation_2\": \"sh:class\",\n",
    "    \"annotation_3\": \"sh:path\",\n",
    "    \"controlled value_annotation_3\": \"sh:class\",\n",
    "    \"annotation_4\": \"sh:path\",\n",
    "    \"controlled value_annotation_4\": \"sh:class\",\n",
    "    \"annotation_5\": \"sh:path\",\n",
    "    \"controlled value_annotation_5\": \"sh:class\",\n",
    "    \"annotation_6\": \"sh:path\",\n",
    "    \"controlled value_annotation_6\": \"sh:class\",\n",
    "    \"annotation_7\": \"sh:path\",\n",
    "    \"controlled value_annotation_7\": \"sh:class\",\n",
    "}\n",
    "\n",
    "\n",
    "COLUMN_ANNOTATION_ASSOCIATIONS = [['annotation_1', 'controlled value_annotation_1'],\n",
    "                                  ['annotation_2', 'controlled value_annotation_2'],\n",
    "                                  ['annotation_3', 'controlled value_annotation_3'],\n",
    "                                  ['annotation_4', 'controlled value_annotation_4'],\n",
    "                                  ['annotation_5', 'controlled value_annotation_5'],\n",
    "                                  ['annotation_6', 'controlled value_annotation_6'],\n",
    "                                  ['annotation_7', 'controlled value_annotation_7'], ]\n",
    "\n",
    "URI_COLUMN = 'URI'\n",
    "\n",
    "\n",
    "graph = build.make_graph(prefixes) \n",
    "\n",
    "\n",
    "# # make literal columns\n",
    "# literal_maker = build.MultiColumnTripleMaker(df,\n",
    "#                                              subject_source=URI_COLUMN,\n",
    "#                                              subject_class=\"skos:Concept\",\n",
    "#                                              column_mapping_dict=LITERAL_COLUMNS,\n",
    "#                                              target_columns=list(LITERAL_COLUMNS.keys()),\n",
    "#                                              uri_valued_columns=[],\n",
    "#                                              multi_line_columns=[],\n",
    "#                                              graph=graph)\n",
    "# literal_maker.make_triples()\n",
    "\n",
    "# # make literal columns\n",
    "# reified_literal_maker = build.MultiColumnTripleMaker(df,\n",
    "#                                              subject_source=None,\n",
    "#                                              subject_class=\"skosxl:Label\",\n",
    "#                                              column_mapping_dict=REIFIED_LITERAL_COLUMNS,\n",
    "#                                              target_columns=list(REIFIED_LITERAL_COLUMNS.keys()),\n",
    "#                                              uri_valued_columns=[],\n",
    "#                                              multi_line_columns=[],\n",
    "#                                              graph=graph)\n",
    "# reified_literal_maker.make_triples()\n",
    "# # adding reified labels\n",
    "# build.relate_subject_sets(literal_maker.subject_index(), reified_literal_maker.subject_index(),\n",
    "#                          graph=graph, predicate=\"skosxl:prefLabel\")\n",
    "\n",
    "# # make mapping uri columns\n",
    "# uri_maker = build.MultiColumnTripleMaker(df,\n",
    "#                                              subject_source=URI_COLUMN,\n",
    "#                                              subject_class=\"skos:Concept\",\n",
    "#                                              column_mapping_dict=MAPPING_URI_COLUMNS,\n",
    "#                                              target_columns=list(MAPPING_URI_COLUMNS.keys()),\n",
    "#                                              uri_valued_columns=list(MAPPING_URI_COLUMNS.keys()),\n",
    "#                                              multi_line_columns=[],\n",
    "#                                              graph=graph)\n",
    "# uri_maker.make_triples()\n",
    "\n",
    "# make mapping commented value columns \n",
    "# mapping_value_maker = build.MultiColumnTripleMaker(df,\n",
    "#                                              subject_source=URI_COLUMN,\n",
    "#                                              subject_class=\"skos:Concept\",\n",
    "#                                              column_mapping_dict=MAPPING_VALUE_COMMENT_COLUMNS,\n",
    "#                                              target_columns=list(MAPPING_VALUE_COMMENT_COLUMNS.keys()),\n",
    "#                                              uri_valued_columns=[],\n",
    "#                                              multi_line_columns=list(MAPPING_VALUE_COMMENT_COLUMNS.keys()),\n",
    "#                                              graph=graph)\n",
    "# mapping_value_maker.make_triples()\n",
    "\n",
    "\n",
    "\n",
    "\n",
    "graph.serialize(str(OUTPUT_FILE), format='turtle', )"
   ]
  },
  {
   "cell_type": "code",
   "execution_count": 131,
   "metadata": {},
   "outputs": [],
   "source": [
    "# # make literal columns\n",
    "# literal_maker = build.ConceptReifiedValueMaker(df,\n",
    "#                                          subject_source=None,\n",
    "#                                          subject_in_scheme=\":DocumentType\",\n",
    "#                                          subject_class=\"skos:Concept\",\n",
    "#                                          reified_value_property=\"rdf:value\",\n",
    "#                                          reified_resource_class=\"euvoc:XlNote\",    \n",
    "#                                          column_mapping_dict=CONSTRAINT_VALUE_COMMENT_COLUMNS,\n",
    "#                                          target_columns=list(CONSTRAINT_VALUE_COMMENT_COLUMNS.keys()),\n",
    "#                                          uri_valued_columns=[],\n",
    "#                                          multi_line_columns=[],\n",
    "#                                          graph=graph, \n",
    "#                                         )\n",
    "# literal_maker.make_triples()\n",
    "\n",
    "# constraint maker\n",
    "# constraint_maker = build.ConceptConstraintMaker(df,\n",
    "#                                          subject_source=None,\n",
    "#                                          subject_in_scheme=\":DocumentType\",\n",
    "#                                          subject_class=\"skos:Concept\",\n",
    "#                                          constraint_property=\"lam:hasPropertyConfiguration\",\n",
    "#                                          constraint_class=\"sh:PropertyShape\",\n",
    "#                                          constraint_comment = \"skos:editorialNote\",  \n",
    "#                                          column_mapping_dict=CONSTRAINT_VALUE_COMMENT_COLUMNS,\n",
    "#                                          target_columns=list(CONSTRAINT_VALUE_COMMENT_COLUMNS.keys()),\n",
    "#                                          uri_valued_columns=[],\n",
    "#                                          multi_line_columns=[],\n",
    "#                                          graph=graph, \n",
    "# )\n",
    "# constraint_maker.make_triples()\n",
    "\n",
    "\n",
    "df = lam_df_properties\n",
    "# property constraint maker\n",
    "pc_maker = build.ConceptMultiColumnConstraintMaker(df,\n",
    "                                         subject_source=\"URI\",\n",
    "                                        \n",
    "                                         subject_class=\"skos:Concept\",\n",
    "                                         constraint_property=\"lam:hasAnnotationConfiguration\",\n",
    "                                         constraint_class=\"lam:AnnotationConfiguration\",\n",
    "                                          \n",
    "                                         column_mapping_dict=ANNOTATION_COLUMNS,\n",
    "                                         target_columns=list(COLUMN_ANNOTATION_ASSOCIATIONS[0]),\n",
    "                                         uri_valued_columns=list(COLUMN_ANNOTATION_ASSOCIATIONS[0]),\n",
    "                                         multi_line_columns=list(COLUMN_ANNOTATION_ASSOCIATIONS[0]),\n",
    "                                         graph=graph, )\n",
    "pc_maker.make_triples()\n",
    "\n",
    "graph.serialize(str(OUTPUT_FILE), format='turtle', )\n"
   ]
  },
  {
   "cell_type": "code",
   "execution_count": 105,
   "metadata": {},
   "outputs": [
    {
     "data": {
      "text/plain": [
       "False"
      ]
     },
     "execution_count": 105,
     "metadata": {},
     "output_type": "execute_result"
    }
   ],
   "source": [
    "# lam_df_properties.head()\n",
    "# lam_df_properties.loc[1,[\"property\",\"controlled value _property\",\"annotation_1\",\"annotation_2\"]].isnull().values.all()\n"
   ]
  }
 ],
 "metadata": {
  "kernelspec": {
   "display_name": "Python 3",
   "language": "python",
   "name": "python3"
  },
  "language_info": {
   "codemirror_mode": {
    "name": "ipython",
    "version": 3
   },
   "file_extension": ".py",
   "mimetype": "text/x-python",
   "name": "python",
   "nbconvert_exporter": "python",
   "pygments_lexer": "ipython3",
   "version": "3.7.3"
  },
  "pycharm": {
   "stem_cell": {
    "cell_type": "raw",
    "metadata": {
     "collapsed": false
    },
    "source": []
   }
  }
 },
 "nbformat": 4,
 "nbformat_minor": 2
}
