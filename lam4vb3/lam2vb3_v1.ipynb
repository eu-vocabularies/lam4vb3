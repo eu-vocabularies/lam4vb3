{
 "cells": [
  {
   "cell_type": "code",
   "execution_count": 32,
   "metadata": {
    "pycharm": {
     "is_executing": false
    }
   },
   "outputs": [
    {
     "name": "stdout",
     "output_type": "stream",
     "text": [
      "The autoreload extension is already loaded. To reload it, use:\n",
      "  %reload_ext autoreload\n"
     ]
    }
   ],
   "source": [
    "%load_ext autoreload\n",
    "%autoreload\n",
    "\n",
    "import pathlib\n",
    "from lam4vb3 import build\n",
    "import pandas as pd\n",
    "from lam4vb3 import property_build\n",
    "from lam4vb3 import class_build\n",
    "from lam4vb3 import lam_utils\n",
    "import rdflib\n",
    "from rdflib.namespace import RDF, RDFS, SKOS, DCTERMS, OWL, XMLNS, XSD\n",
    "\n",
    "INPUT_FILE = pathlib.Path(\"../docs/semi-structured/LAM_metadata_03.xlsx\").resolve()\n",
    "OUTPUT_FILE = pathlib.Path(\"../output/lam_project_v1.ttl\").resolve()"
   ]
  },
  {
   "cell_type": "code",
   "execution_count": 42,
   "metadata": {
    "pycharm": {
     "is_executing": false
    }
   },
   "outputs": [],
   "source": [
    "lam_df_properties = pd.read_excel(INPUT_FILE, sheet_name=0 , header = [0], na_values=[\"\"], keep_default_na=False )\n",
    "lam_df_classes = pd.read_excel(INPUT_FILE, sheet_name=1 ,header = [0], na_values=[\"\"], keep_default_na=False )\n",
    "celex_df_properties = pd.read_excel(INPUT_FILE, sheet_name=2 ,header = [0], na_values=[\"\"], keep_default_na=False )\n",
    "celex_df_classes = pd.read_excel(INPUT_FILE, sheet_name=3 ,header = [0], na_values=[\"\"], keep_default_na=False )\n",
    "prefixes = pd.read_excel(INPUT_FILE, sheet_name=4 ,header = [0], na_values=[\"\"], keep_default_na=False )\n",
    "# test = lam_df_properties.head().to_dict()\n",
    "# print(str(test))\n"
   ]
  },
  {
   "cell_type": "code",
   "execution_count": 33,
   "metadata": {},
   "outputs": [],
   "source": [
    "# property_build.make_property_worksheet(lam_df_properties,prefixes, OUTPUT_FILE)"
   ]
  },
  {
   "cell_type": "code",
   "execution_count": 43,
   "metadata": {
    "scrolled": false
   },
   "outputs": [],
   "source": [
    "\n",
    "LITERAL_COLUMNS = {\n",
    "    'EXAMPLE_EN': 'skos:example@en',\n",
    "    'EXAMPLE_FR': 'skos:example@fr',\n",
    "    'COMMENT': 'skos:editorialNote@en',\n",
    "    'EXAMPLE_CELEX': 'skos:example',\n",
    "}\n",
    "\n",
    "REIFIED_LITERAL_COLUMNS = {\n",
    "    'KEYWORD': 'skosxl:literalForm@en',\n",
    "}\n",
    "\n",
    "MAPPING_URI_COLUMNS = {\n",
    "    'CDM_CLASS': 'lam:cdm_class',\n",
    "    'DN_CLASS': 'lam:celex_class',\n",
    "}\n",
    "\n",
    "MAPPING_VALUE_COMMENT_COLUMNS = {\n",
    "    'AU': 'cdm:created_by',\n",
    "    'FM': 'cdm:resource-type',\n",
    "}\n",
    "\n",
    "MAPPING_CELEX_COLUMN = {\n",
    "    'DN_CLASS': 'lam:celex_class',\n",
    "}\n",
    "\n",
    "URI_COLUMN = 'URI'\n",
    "\n",
    "\n",
    "graph = build.make_graph(prefixes) \n",
    "\n",
    "df = lam_df_classes\n",
    "# make literal columns\n",
    "literal_maker = build.MultiColumnTripleMaker(df,\n",
    "                                             subject_source=URI_COLUMN,\n",
    "                                             subject_class=\"skos:Concept\",\n",
    "                                             column_mapping_dict=LITERAL_COLUMNS,\n",
    "                                             target_columns=list(LITERAL_COLUMNS.keys()),\n",
    "                                             uri_valued_columns=[],\n",
    "                                             multi_line_columns=[],\n",
    "                                             graph=graph)\n",
    "literal_maker.make_triples()\n",
    "\n",
    "# make literal columns\n",
    "reified_literal_maker = build.MultiColumnTripleMaker(df,\n",
    "                                             subject_source=None,\n",
    "                                             subject_class=\"skosxl:Label\",\n",
    "                                             column_mapping_dict=REIFIED_LITERAL_COLUMNS,\n",
    "                                             target_columns=list(REIFIED_LITERAL_COLUMNS.keys()),\n",
    "                                             uri_valued_columns=[],\n",
    "                                             multi_line_columns=[],\n",
    "                                             graph=graph)\n",
    "reified_literal_maker.make_triples()\n",
    "# adding reified labels\n",
    "build.relate_subject_sets(literal_maker.subject_index(), reified_literal_maker.subject_index(),\n",
    "                         graph=graph, predicate=\"skosxl:prefLabel\")\n",
    "\n",
    "# make mapping uri columns\n",
    "uri_maker = build.MultiColumnTripleMaker(df,\n",
    "                                             subject_source=URI_COLUMN,\n",
    "                                             subject_class=\"skos:Concept\",\n",
    "                                             column_mapping_dict=MAPPING_URI_COLUMNS,\n",
    "                                             target_columns=list(MAPPING_URI_COLUMNS.keys()),\n",
    "                                             uri_valued_columns=list(MAPPING_URI_COLUMNS.keys()),\n",
    "                                             multi_line_columns=[],\n",
    "                                             graph=graph)\n",
    "uri_maker.make_triples()\n",
    "\n",
    "# make mapping commented value columns \n",
    "mapping_value_maker = build.MultiColumnTripleMaker(df,\n",
    "                                             subject_source=URI_COLUMN,\n",
    "                                             subject_class=\"skos:Concept\",\n",
    "                                             column_mapping_dict=MAPPING_VALUE_COMMENT_COLUMNS,\n",
    "                                             target_columns=list(MAPPING_VALUE_COMMENT_COLUMNS.keys()),\n",
    "                                             uri_valued_columns=[],\n",
    "                                             multi_line_columns=list(MAPPING_VALUE_COMMENT_COLUMNS.keys()),\n",
    "                                             graph=graph)\n",
    "mapping_value_maker.make_triples()\n",
    "\n",
    "\n",
    "graph.serialize(str(OUTPUT_FILE), format='turtle', )"
   ]
  }
 ],
 "metadata": {
  "kernelspec": {
   "display_name": "Python 3",
   "language": "python",
   "name": "python3"
  },
  "language_info": {
   "codemirror_mode": {
    "name": "ipython",
    "version": 3
   },
   "file_extension": ".py",
   "mimetype": "text/x-python",
   "name": "python",
   "nbconvert_exporter": "python",
   "pygments_lexer": "ipython3",
   "version": "3.7.3"
  },
  "pycharm": {
   "stem_cell": {
    "cell_type": "raw",
    "metadata": {
     "collapsed": false
    },
    "source": []
   }
  }
 },
 "nbformat": 4,
 "nbformat_minor": 2
}
