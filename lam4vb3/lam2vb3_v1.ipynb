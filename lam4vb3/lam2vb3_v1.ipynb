{
 "cells": [
  {
   "cell_type": "code",
   "execution_count": 30,
   "metadata": {
    "pycharm": {
     "is_executing": false
    }
   },
   "outputs": [
    {
     "name": "stdout",
     "output_type": "stream",
     "text": [
      "The autoreload extension is already loaded. To reload it, use:\n",
      "  %reload_ext autoreload\n"
     ]
    }
   ],
   "source": [
    "%load_ext autoreload\n",
    "%autoreload 2\n",
    "\n",
    "import pathlib\n",
    "from lam4vb3 import build\n",
    "import pandas as pd\n",
    "from lam4vb3 import property_build\n",
    "from lam4vb3 import class_build\n",
    "from lam4vb3 import lam_utils\n",
    "import rdflib\n",
    "from rdflib.namespace import RDF, RDFS, SKOS, DCTERMS, OWL, XMLNS, XSD\n",
    "from datetime import date\n",
    "\n",
    "INPUT_FILE = pathlib.Path(\"../docs/semi-structured/LAM_metadata_03.xlsx\").resolve()\n",
    "OUTPUT_FILE = pathlib.Path(\"../output/lam_project_v1.ttl\").resolve()\n",
    "OUTPUT_FILE_LAM_PROPERTIES = pathlib.Path(\"../output/lam_project_properties_v2.ttl\").resolve()\n",
    "OUTPUT_FILE_LAM_CLASSES = pathlib.Path(\"../output/lam_project_classes_v2.ttl\").resolve()\n",
    "OUTPUT_FILE_CELEX_CLASSES = pathlib.Path(\"../output/celex_project_classes_v2.ttl\").resolve()\n"
   ]
  },
  {
   "cell_type": "code",
   "execution_count": 31,
   "metadata": {
    "pycharm": {
     "is_executing": false
    }
   },
   "outputs": [],
   "source": [
    "lam_df_properties = pd.read_excel(INPUT_FILE, sheet_name=0 , header = [0], na_values=[\"\"], keep_default_na=False )\n",
    "lam_df_classes = pd.read_excel(INPUT_FILE, sheet_name=1 ,header = [0], na_values=[\"\"], keep_default_na=False )\n",
    "celex_df_properties = pd.read_excel(INPUT_FILE, sheet_name=2 ,header = [0], na_values=[\"\"], keep_default_na=False )\n",
    "celex_df_classes = pd.read_excel(INPUT_FILE, sheet_name=3 ,header = [0], na_values=[\"\"], keep_default_na=False )\n",
    "prefixes = pd.read_excel(INPUT_FILE, sheet_name=4 ,header = [0], na_values=[\"\"], keep_default_na=False )"
   ]
  },
  {
   "cell_type": "code",
   "execution_count": 19,
   "metadata": {
    "scrolled": false
   },
   "outputs": [],
   "source": [
    "property_build.make_property_worksheet(lam_df_properties,prefixes, OUTPUT_FILE_PROPERTIES)"
   ]
  },
  {
   "cell_type": "code",
   "execution_count": 20,
   "metadata": {},
   "outputs": [],
   "source": [
    "class_build.make_class_worksheet(lam_df_classes,prefixes, OUTPUT_FILE_CLASSES)"
   ]
  },
  {
   "cell_type": "code",
   "execution_count": 35,
   "metadata": {},
   "outputs": [],
   "source": [
    "celex_df_classes['DTS'] = celex_df_classes['DTS'].apply(str)\n",
    "\n",
    "class_build.make_celex_class_worksheet(celex_df_classes,prefixes, OUTPUT_FILE_CELEX_CLASSES)"
   ]
  },
  {
   "cell_type": "code",
   "execution_count": 5,
   "metadata": {
    "scrolled": false
   },
   "outputs": [],
   "source": [
    "# COLLECTION_COLUMNS_3 = [\"Classification level 1\", \"Classification level 2\", \"Classification level 3\"]\n",
    "# COLLECTION_COLUMNS_2 = [\"Classification level 1\", \"Classification level 2\", ]\n",
    "\n",
    "# COLLECTION_COLUMNS = {\n",
    "#     \"Classification level 1\":\"skos:prefLabel\",\n",
    "#     \"Classification level 2\":\"skos:prefLabel\",\n",
    "#     \"Classification level 3\":\"skos:prefLabel\",\n",
    "# }\n",
    "\n",
    "\n",
    "# graph = build.make_graph(prefixes)\n",
    "# df = lam_df_classes\n",
    "# collection_maker = build.ConceptCollectionMaker(df, \n",
    "#                                                 column_mapping_dict=COLLECTION_COLUMNS,\n",
    "#                                                 graph=graph,\n",
    "#                                                 target_columns=COLLECTION_COLUMNS_3,\n",
    "#                                                 subject_source=\"URI\",\n",
    "#                                                 subject_class=\"skos:Concept\",\n",
    "#                                                 membership_predicate=\"skos:member\",\n",
    "#                                                 collection_class=\"skos:Collectiopn\",)\n",
    "# collection_maker.make_triples()\n",
    "# graph.serialize(str(OUTPUT_FILE), format='turtle', )"
   ]
  },
  {
   "cell_type": "code",
   "execution_count": 6,
   "metadata": {},
   "outputs": [],
   "source": [
    "# MAPPING_URI_COLUMNS = {\n",
    "#     'CDM_CLASS': 'lam:cdm_class',\n",
    "#     'DN_CLASS': 'lam:celex_class',\n",
    "#     'FM': 'cdm:resource-type',\n",
    "# }\n",
    "\n",
    "# URI_COLUMN = 'URI'\n",
    "# LAM_CLASS_CS = \"lamd:LegalDocument\"\n",
    "# df = lam_df_classes\n",
    "# graph = build.make_graph(prefixes)\n",
    "# # make constraint from value with comment: Mapping columns\n",
    "# value_comment_constraint_maker1 = build.ConceptConstraintMaker(df,\n",
    "#                                                                subject_source=URI_COLUMN,\n",
    "#                                                                subject_class=\"skos:Concept\",\n",
    "#                                                                subject_in_scheme=LAM_CLASS_CS,\n",
    "#                                                                constraint_property=\"lam:hasPropertyConfiguration\",\n",
    "#                                                                constraint_class=\"lam:MappingPropertyConfiguration\",\n",
    "#                                                                constraint_comment=\"skos:editorialNote\",\n",
    "#                                                                column_mapping_dict=MAPPING_URI_COLUMNS,\n",
    "#                                                                target_columns=list(MAPPING_URI_COLUMNS.keys()),\n",
    "#                                                                uri_valued_columns=list(MAPPING_URI_COLUMNS.keys()),\n",
    "#                                                                multi_line_columns=[],\n",
    "#                                                                graph=graph)\n",
    "\n",
    "# value_comment_constraint_maker1.make_triples()\n",
    "# graph.serialize(str(OUTPUT_FILE), format='turtle', )"
   ]
  },
  {
   "cell_type": "code",
   "execution_count": 23,
   "metadata": {
    "scrolled": false
   },
   "outputs": [],
   "source": [
    "# CELEX_CS = \"celexd:CelexLegalDocument\"\n",
    "\n",
    "# LITERAL_CELEX_COLUMNS = {'CODE': 'skos:notation',\n",
    "#                          'LABEL': 'skos:prefLabel@en',\n",
    "#                          'EXAMPLE_EN': 'skos:example@en',\n",
    "#                          'COMMENT': 'skos:editorialNote@en',\n",
    "#                          }\n",
    "\n",
    "# VALUE_COMMENT_CELEX_COLUMNS = {\n",
    "#     'DTS': 'lam:dts',\n",
    "#     'DTT': 'lam:dtt',\n",
    "#     'DTA': 'lam:dta',\n",
    "#     'DTN': 'lam:dts',\n",
    "# }\n",
    "\n",
    "# URI_COLUMN = 'URI'\n",
    "\n",
    "# graph = build.make_graph(prefixes)\n",
    "# celex_df_classes['DTS'] = celex_df_classes['DTS'].apply(str)\n",
    "# df = celex_df_classes\n",
    "\n",
    "# # make literal columns\n",
    "# literal_maker = build.ConceptTripleMaker(df,\n",
    "#                                          subject_source=URI_COLUMN,\n",
    "#                                          subject_class=\"skos:Concept\",\n",
    "#                                          subject_in_scheme=CELEX_CS,\n",
    "#                                          column_mapping_dict=LITERAL_CELEX_COLUMNS,\n",
    "#                                          target_columns=list(LITERAL_CELEX_COLUMNS.keys()),\n",
    "#                                          uri_valued_columns=[],\n",
    "#                                          multi_line_columns=list(LITERAL_CELEX_COLUMNS.keys()),\n",
    "#                                          graph=graph)\n",
    "# literal_maker.make_triples()\n",
    "\n",
    "# # make constraint from values with comments (according to agreed cardinality specs)\n",
    "# value_comment_constraint_maker = build.ConceptConstraintMaker(df,\n",
    "#                                                                subject_source=URI_COLUMN,\n",
    "#                                                                subject_class=\"skos:Concept\",\n",
    "#                                                                subject_in_scheme=CELEX_CS,\n",
    "#                                                                constraint_property=\"lam:hasPropertyConfiguration\",\n",
    "#                                                                constraint_class=\"lam:PropertyConfiguration\",\n",
    "#                                                                constraint_comment=\"skos:editorialNote\",\n",
    "#                                                                constraint_path_property=\"lam:path\",\n",
    "#                                                                column_mapping_dict=VALUE_COMMENT_CELEX_COLUMNS,\n",
    "#                                                                target_columns=list(\n",
    "#                                                                    VALUE_COMMENT_CELEX_COLUMNS.keys()),\n",
    "#                                                                uri_valued_columns=[],\n",
    "#                                                                multi_line_columns=[],\n",
    "#                                                                graph=graph)\n",
    "\n",
    "# value_comment_constraint_maker.make_triples()\n",
    "\n",
    "# graph.serialize(str(OUTPUT_FILE), format='turtle', )"
   ]
  },
  {
   "cell_type": "code",
   "execution_count": 36,
   "metadata": {},
   "outputs": [],
   "source": [
    "# print(celex_df_classes.dtypes)\n",
    "# celex_df_classes['DTS'] = celex_df_classes['DTS'].apply(str)\n",
    "# print(celex_df_classes.dtypes)\n"
   ]
  }
 ],
 "metadata": {
  "kernelspec": {
   "display_name": "Python 3",
   "language": "python",
   "name": "python3"
  },
  "language_info": {
   "codemirror_mode": {
    "name": "ipython",
    "version": 3
   },
   "file_extension": ".py",
   "mimetype": "text/x-python",
   "name": "python",
   "nbconvert_exporter": "python",
   "pygments_lexer": "ipython3",
   "version": "3.7.3"
  },
  "pycharm": {
   "stem_cell": {
    "cell_type": "raw",
    "metadata": {
     "collapsed": false
    },
    "source": []
   }
  }
 },
 "nbformat": 4,
 "nbformat_minor": 2
}
