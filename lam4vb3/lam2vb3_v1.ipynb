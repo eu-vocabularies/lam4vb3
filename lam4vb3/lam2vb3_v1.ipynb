{
 "cells": [
  {
   "cell_type": "code",
   "execution_count": 35,
   "metadata": {
    "pycharm": {
     "is_executing": false
    }
   },
   "outputs": [
    {
     "name": "stdout",
     "output_type": "stream",
     "text": [
      "The autoreload extension is already loaded. To reload it, use:\n",
      "  %reload_ext autoreload\n"
     ]
    }
   ],
   "source": [
    "%load_ext autoreload\n",
    "%autoreload\n",
    "\n",
    "import pathlib\n",
    "from lam4vb3 import build\n",
    "import pandas as pd\n",
    "from lam4vb3 import property_build\n",
    "from lam4vb3 import lam_utils\n",
    "import rdflib\n",
    "from rdflib.namespace import RDF, RDFS, SKOS, DCTERMS, OWL, XMLNS, XSD\n",
    "\n",
    "INPUT_FILE = pathlib.Path(\"../docs/semi-structured/LAM_metadata_03.xlsx\").resolve()\n",
    "OUTPUT_FILE = pathlib.Path(\"../output/lam_project_v1.ttl\").resolve()"
   ]
  },
  {
   "cell_type": "code",
   "execution_count": 6,
   "metadata": {
    "pycharm": {
     "is_executing": false
    }
   },
   "outputs": [],
   "source": [
    "lam_df_properties = pd.read_excel(INPUT_FILE, sheet_name=0 , header = [0], )\n",
    "lam_df_classes = pd.read_excel(INPUT_FILE, sheet_name=1 ,header = [0], )\n",
    "celex_df_properties = pd.read_excel(INPUT_FILE, sheet_name=2 ,header = [0], )\n",
    "celex_df_classes = pd.read_excel(INPUT_FILE, sheet_name=3 ,header = [0], )\n",
    "prefixes = pd.read_excel(INPUT_FILE, sheet_name=4 ,header = [0], )\n",
    "# test = lam_df_properties.head().to_dict()\n",
    "# print(str(test))\n"
   ]
  },
  {
   "cell_type": "code",
   "execution_count": 15,
   "metadata": {},
   "outputs": [],
   "source": [
    "property_build.make_property_worksheet(lam_df_properties,prefixes, OUTPUT_FILE)"
   ]
  },
  {
   "cell_type": "code",
   "execution_count": 39,
   "metadata": {},
   "outputs": [
    {
     "name": "stdout",
     "output_type": "stream",
     "text": [
      "[rdflib.term.URIRef('http://publications.europa.eu/resources/authority/lam/res_5DtZLBnAHLPT4jS8ScqZqS'), rdflib.term.URIRef('http://publications.europa.eu/resources/authority/lam/res_zYgW2CLXaWBasNPNAGtVtY'), rdflib.term.URIRef('http://publications.europa.eu/resources/authority/lam/res_Lna2eMkgtfq86hRSemwSiK'), rdflib.term.URIRef('http://publications.europa.eu/resources/authority/lam/res_9AeBHePPLWw4ggGLpDWjmJ'), rdflib.term.URIRef('http://publications.europa.eu/resources/authority/lam/res_iNG2hwgb2LwW7SzpHjiU6P'), rdflib.term.URIRef('http://publications.europa.eu/resources/authority/lam/res_z68c4cnTgT9sFWmzZNXme7'), rdflib.term.URIRef('http://publications.europa.eu/resources/authority/lam/res_eyb5DCW7h8zzdkeE3G9yi6'), rdflib.term.URIRef('http://publications.europa.eu/resources/authority/lam/res_dEj8drbKSoHTsigouvgLQo'), rdflib.term.URIRef('http://publications.europa.eu/resources/authority/lam/res_ziRuCVwqoawsYHPvSJXPyE'), rdflib.term.URIRef('http://publications.europa.eu/resources/authority/lam/res_pZba5ZxBRGez8jswnK6Vd3'), rdflib.term.URIRef('http://publications.europa.eu/resources/authority/lam/res_etz6AxeTiDgQaMHTtXooKY'), rdflib.term.URIRef('http://publications.europa.eu/resources/authority/lam/res_j9M5xvyaLfm9MgkFgtqFG4'), rdflib.term.URIRef('http://publications.europa.eu/resources/authority/lam/res_hwWd7WAQGtunzcz8wKVmEh'), rdflib.term.URIRef('http://publications.europa.eu/resources/authority/lam/res_m3PXgamM6yHcKarSeFjBum'), rdflib.term.URIRef('http://publications.europa.eu/resources/authority/lam/res_C3DSXY9eniY8e2LGefeKpm'), rdflib.term.URIRef('http://publications.europa.eu/resources/authority/lam/res_q9eYynsKX7qZZRFtbnuUBa'), rdflib.term.URIRef('http://publications.europa.eu/resources/authority/lam/res_6LU6KfSsWjFedbEwGMej4E'), rdflib.term.URIRef('http://publications.europa.eu/resources/authority/lam/res_G6mxCrWz7qSQHxwvaeLhE5'), rdflib.term.URIRef('http://publications.europa.eu/resources/authority/lam/res_FqdTuun8tCpGEjAcL3KNGg'), rdflib.term.URIRef('http://publications.europa.eu/resources/authority/lam/res_SvXDirg5XTUSMdPKL33W8d'), rdflib.term.URIRef('http://publications.europa.eu/resources/authority/lam/res_TgiuhMzcFtgg2BHKjpdBs2'), rdflib.term.URIRef('http://publications.europa.eu/resources/authority/lam/res_eMBKDPDMRD5E55bJwyEceG'), rdflib.term.URIRef('http://publications.europa.eu/resources/authority/lam/res_88vEpQYpGMr8uGZV4oNyXe'), rdflib.term.URIRef('http://publications.europa.eu/resources/authority/lam/res_xwJ6NdT6gP4VqGFMgvQpqA'), rdflib.term.URIRef('http://publications.europa.eu/resources/authority/lam/res_XRrDVQm5j9RLCRAfvxDmRG'), rdflib.term.URIRef('http://publications.europa.eu/resources/authority/lam/res_gikoXB5ghdt7ay8YNQgNK5'), rdflib.term.URIRef('http://publications.europa.eu/resources/authority/lam/res_XzCVKZcPuUkntK7ZT5LPVK'), rdflib.term.URIRef('http://publications.europa.eu/resources/authority/lam/res_urHT7WxsuhyHYUzdmTTqrL'), rdflib.term.URIRef('http://publications.europa.eu/resources/authority/lam/res_fXgCr6xgEmEeABa2AvcTZT'), rdflib.term.URIRef('http://publications.europa.eu/resources/authority/lam/res_UyjFmehutzcDyHh77QDUfZ')] [(None, rdflib.term.URIRef('http://www.w3.org/1999/02/22-rdf-syntax-ns#type'), rdflib.term.URIRef('http://www.w3.org/2004/02/skos/core#Concept')), (None, rdflib.term.URIRef('http://purl.org/dc/terms/created'), rdflib.term.Literal('Today'))]\n"
     ]
    }
   ],
   "source": [
    "LITERAL_COLUMNS = {\n",
    "    'Code': 'skos:notation',\n",
    "    'Label': 'skos:prefLabel@en',\n",
    "    'Definition': 'skos:definition@en',\n",
    "    'Example - cellar notice': 'skos:example',\n",
    "    'Analytical methodology': 'skos:scopeNote@en',\n",
    "    'Specific cases': 'skos:historyNote@en',\n",
    "    'Comments': 'skos:editorialNote@en',\n",
    "    'Changes to be done': 'skos:editorialNote@en',\n",
    "}\n",
    "\n",
    "URI_COLUMNS = {\n",
    "    'property': 'sh:path',\n",
    "}\n",
    "\n",
    "MULTI_LINE_URI_COLUMNS = {\n",
    "    'controlled value _property': 'sh:class',\n",
    "}\n",
    "\n",
    "\n",
    "URI_COLUMN = 'URI'\n",
    "\n",
    "\n",
    "df=lam_df_properties\n",
    "\n",
    "# \n",
    "\n",
    "graph = build.make_graph(prefixes)\n",
    "\n",
    "# # make literal columns\n",
    "# literal_maker = build.MultiColumnTripleMaker(df,\n",
    "#                                             subject_source=URI_COLUMN,\n",
    "#                                             column_mapping_dict=LITERAL_COLUMNS,\n",
    "#                                             target_columns = list(LITERAL_COLUMNS.keys()), \n",
    "#                                             uri_valued_columns = [],\n",
    "#                                             multi_line_columns=[],\n",
    "#                                             graph=graph)\n",
    "# literal_maker.make_triples()\n",
    "\n",
    "# # make uri columns\n",
    "# uri_maker = build.MultiColumnTripleMaker(df,\n",
    "#                                         subject_source=URI_COLUMN,\n",
    "#                                         column_mapping_dict=URI_COLUMNS,\n",
    "#                                         target_columns = list(URI_COLUMNS.keys()), \n",
    "#                                         uri_valued_columns = list(URI_COLUMNS.keys()),\n",
    "#                                         multi_line_columns=[],\n",
    "#                                         graph=graph)\n",
    "\n",
    "# uri_maker.make_triples()\n",
    "\n",
    "# make multi line uri columns\n",
    "ml_uri_maker = build.MultiColumnTripleMaker(df,\n",
    "                                        subject_source=None,\n",
    "                                        column_mapping_dict=MULTI_LINE_URI_COLUMNS,\n",
    "                                        target_columns = list(MULTI_LINE_URI_COLUMNS.keys()), \n",
    "                                        uri_valued_columns = list(MULTI_LINE_URI_COLUMNS.keys()),\n",
    "                                        multi_line_columns=list(MULTI_LINE_URI_COLUMNS.keys()),\n",
    "                                        graph=graph)\n",
    "\n",
    "t = ml_uri_maker.make_triples()\n",
    "\n",
    "subjects= get_subjects_from_triples(t)\n",
    "\n",
    "pattern=[ (None,RDF.type, SKOS.Concept), (None,DCTERMS.created, rdflib.Literal(\"Today\"))  ]\n",
    "res = build.apply_values_to_triple_pattern(subjects, pattern)\n",
    "build.add_triples_to_graph(res,graph)\n",
    "\n",
    "\n",
    "# write it down\n",
    "graph.serialize(str(OUTPUT_FILE), format='turtle', )\n"
   ]
  }
 ],
 "metadata": {
  "kernelspec": {
   "display_name": "Python 3",
   "language": "python",
   "name": "python3"
  },
  "language_info": {
   "codemirror_mode": {
    "name": "ipython",
    "version": 3
   },
   "file_extension": ".py",
   "mimetype": "text/x-python",
   "name": "python",
   "nbconvert_exporter": "python",
   "pygments_lexer": "ipython3",
   "version": "3.7.3"
  },
  "pycharm": {
   "stem_cell": {
    "cell_type": "raw",
    "metadata": {
     "collapsed": false
    },
    "source": []
   }
  }
 },
 "nbformat": 4,
 "nbformat_minor": 2
}
