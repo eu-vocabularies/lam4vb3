{
 "cells": [
  {
   "cell_type": "code",
   "execution_count": 20,
   "metadata": {},
   "outputs": [
    {
     "name": "stdout",
     "output_type": "stream",
     "text": [
      "The autoreload extension is already loaded. To reload it, use:\n",
      "  %reload_ext autoreload\n"
     ]
    }
   ],
   "source": [
    "%load_ext autoreload\n",
    "%autoreload 2\n",
    "\n",
    "import pathlib\n",
    "import pandas as pd\n",
    "from lam4vb3 import property_build, class_build, LAM_PROPERTIES_WS_NAME, LAM_CLASSES_WS_NAME, CELEX_CLASSES_WS_NAME, \\\n",
    "    PREFIX_WS_NAME, LAM_PROPERTY_CLASSIFICATION_WS_NAME, INPUT_EXCEL_FILE, CELEX_CLASSES_TTL, LAM_CLASSES_TTL, \\\n",
    "    LAM_PROPERTIES_TTL, LAM_CLASS_CLASSIFICATION_WS_NAME\n",
    "\n",
    "# INPUT_FILE = pathlib.Path(\"../docs/semi-structured/LAM_metadata_03.xlsx\").resolve()\n",
    "# INPUT_FILE = pathlib.Path(\"../docs/semi-structured/LAM_metadata_04_ECO.xlsx\").resolve()\n",
    "# INPUT_FILE = pathlib.Path(\"../docs/semi-structured/LAM_metadata_05_ECO.xlsx\").resolve()\n",
    "# INPUT_FILE = pathlib.Path(\"../docs/semi-structured/LAM_metadata_20191120.xlsx\").resolve()\n",
    "INPUT_FILE = INPUT_EXCEL_FILE\n",
    "\n",
    "# OUTPUT_FILE = pathlib.Path(\"../output/lam_project_v1.ttl\").resolve()\n",
    "OUTPUT_FILE_LAM_PROPERTIES =  LAM_PROPERTIES_TTL #pathlib.Path(\"../output/lam_project_properties_v2.ttl\").resolve()\n",
    "OUTPUT_FILE_LAM_CLASSES = LAM_CLASSES_TTL #pathlib.Path(\"../output/lam_project_classes_v2.ttl\").resolve()\n",
    "OUTPUT_FILE_CELEX_CLASSES = CELEX_CLASSES_TTL #pathlib.Path(\"../output/celex_project_classes_v2.ttl\").resolve()\n"
   ]
  },
  {
   "cell_type": "code",
   "execution_count": 21,
   "metadata": {},
   "outputs": [],
   "source": [
    "lam_df_properties = pd.read_excel(INPUT_FILE, sheet_name=LAM_PROPERTIES_WS_NAME , header = [0], na_values=[\"\"], keep_default_na=False )\n",
    "lam_df_property_classification = pd.read_excel(INPUT_FILE, sheet_name=LAM_PROPERTY_CLASSIFICATION_WS_NAME , header = [0], na_values=[\"\"], keep_default_na=False )\n",
    "lam_df_classes = pd.read_excel(INPUT_FILE, sheet_name=LAM_CLASSES_WS_NAME ,header = [0], na_values=[\"\"], keep_default_na=False )\n",
    "lam_df_classes_classification = pd.read_excel(INPUT_EXCEL_FILE,\n",
    "                                                         sheet_name=LAM_CLASS_CLASSIFICATION_WS_NAME,\n",
    "                                                         header=[0], na_values=[\"\"], keep_default_na=False)\n",
    "celex_df_classes = pd.read_excel(INPUT_FILE, sheet_name=CELEX_CLASSES_WS_NAME ,header = [0], na_values=[\"\"], keep_default_na=False )\n",
    "\n",
    "prefixes = pd.read_excel(INPUT_FILE, sheet_name=PREFIX_WS_NAME ,header = [0], na_values=[\"\"], keep_default_na=False )"
   ]
  },
  {
   "cell_type": "code",
   "execution_count": 22,
   "metadata": {},
   "outputs": [
    {
     "data": {
      "text/plain": "<Graph identifier=Nbe3780811ac343bd988d3d1a634a2e47 (<class 'rdflib.graph.Graph'>)>"
     },
     "execution_count": 22,
     "metadata": {},
     "output_type": "execute_result"
    }
   ],
   "source": [
    "property_build.make_property_worksheet(lam_df_properties, lam_df_property_classification, prefixes, OUTPUT_FILE_LAM_PROPERTIES)"
   ]
  },
  {
   "cell_type": "code",
   "execution_count": 23,
   "metadata": {},
   "outputs": [
    {
     "data": {
      "text/plain": "<Graph identifier=N70173b87d0ca4077a35975d136835a17 (<class 'rdflib.graph.Graph'>)>"
     },
     "execution_count": 23,
     "metadata": {},
     "output_type": "execute_result"
    }
   ],
   "source": [
    "class_build.make_class_worksheet(lam_df_classes, lam_df_classes_classification, prefixes, OUTPUT_FILE_LAM_CLASSES)"
   ]
  },
  {
   "cell_type": "code",
   "execution_count": null,
   "metadata": {},
   "outputs": [],
   "source": [
    "celex_df_classes['DTS'] = celex_df_classes['DTS'].apply(str)\n",
    "\n",
    "class_build.make_celex_class_worksheet(celex_df_classes,prefixes, OUTPUT_FILE_CELEX_CLASSES)\n",
    "property_build.make_property_worksheet(celex_df_properties,prefixes, OUTPUT_FILE_CELEX_PROPERTIES)"
   ]
  }
 ],
 "metadata": {
  "kernelspec": {
   "display_name": "Python 3",
   "language": "python",
   "name": "python3"
  },
  "language_info": {
   "codemirror_mode": {
    "name": "ipython",
    "version": 3
   },
   "file_extension": ".py",
   "mimetype": "text/x-python",
   "name": "python",
   "nbconvert_exporter": "python",
   "pygments_lexer": "ipython3",
   "version": "3.8.2"
  }
 },
 "nbformat": 4,
 "nbformat_minor": 2
}